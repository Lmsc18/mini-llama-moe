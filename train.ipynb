{
 "cells": [
  {
   "cell_type": "code",
   "execution_count": 1,
   "metadata": {},
   "outputs": [],
   "source": [
    "from model.config import GPTConfig,TSConfig\n",
    "from model.modules.transformer import Transformer\n",
    "import torch\n",
    "import numpy as np\n",
    "import os\n",
    "import torch\n",
    "import typing\n",
    "from model.modules.embedding import Embedding\n",
    "data_dir='data'\n",
    "device='mps'\n",
    "device_type='mps'"
   ]
  },
  {
   "cell_type": "code",
   "execution_count": 2,
   "metadata": {},
   "outputs": [],
   "source": [
    "def save_checkpoint(model, optimizer, iteration, out):\n",
    "    \"\"\"\n",
    "    Save model, optimizer, and iteration state to a file.\n",
    "    \n",
    "    Args:\n",
    "        model: torch.nn.Module - The model to save\n",
    "        optimizer: torch.optim.Optimizer - The optimizer to save\n",
    "        iteration: int - Current iteration number\n",
    "        out: str | os.PathLike | typing.BinaryIO | typing.IO[bytes] - Output file or path\n",
    "    \"\"\"\n",
    "    checkpoint = {\n",
    "        'model_state_dict': model.state_dict(),\n",
    "        'optimizer_state_dict': optimizer.state_dict(),\n",
    "        'iteration': iteration\n",
    "    }\n",
    "    torch.save(checkpoint, out)\n"
   ]
  },
  {
   "cell_type": "code",
   "execution_count": 3,
   "metadata": {},
   "outputs": [],
   "source": [
    "def load_checkpoint(src, model, optimizer):\n",
    "    \"\"\"\n",
    "    Load model, optimizer state from a checkpoint file.\n",
    "    \n",
    "    Args:\n",
    "        src: str | os.PathLike | typing.BinaryIO | typing.IO[bytes] - Input file or path\n",
    "        model: torch.nn.Module - The model to load state into\n",
    "        optimizer: torch.optim.Optimizer - The optimizer to load state into\n",
    "        \n",
    "    Returns:\n",
    "        int: The iteration number saved in the checkpoint\n",
    "    \"\"\"\n",
    "    checkpoint = torch.load(src)\n",
    "    model.load_state_dict(checkpoint['model_state_dict'])\n",
    "    optimizer.load_state_dict(checkpoint['optimizer_state_dict'])\n",
    "    return checkpoint['iteration']"
   ]
  },
  {
   "cell_type": "code",
   "execution_count": 4,
   "metadata": {},
   "outputs": [],
   "source": [
    "batch_size=2\n",
    "config=TSConfig()\n",
    "learning_rate = 6e-4\n",
    "train_data = np.memmap(os.path.join(data_dir, 'train.bin'), dtype=np.uint16, mode='r')\n",
    "total_positions = len(train_data) - config.seq_len\n",
    "total_batches = total_positions // batch_size"
   ]
  },
  {
   "cell_type": "code",
   "execution_count": 6,
   "metadata": {},
   "outputs": [
    {
     "data": {
      "text/plain": [
       "236232576"
      ]
     },
     "execution_count": 6,
     "metadata": {},
     "output_type": "execute_result"
    }
   ],
   "source": [
    "total_batches"
   ]
  },
  {
   "cell_type": "code",
   "execution_count": 5,
   "metadata": {},
   "outputs": [],
   "source": [
    "decoder_model=Transformer(config)\n",
    "dm=decoder_model.to(device)\n",
    "\n",
    "optimizer = torch.optim.AdamW(decoder_model.parameters(), lr=learning_rate)\n",
    "scheduler = torch.optim.lr_scheduler.CosineAnnealingLR(optimizer, T_max=total_batches, eta_min=1e-6)"
   ]
  },
  {
   "cell_type": "code",
   "execution_count": null,
   "metadata": {},
   "outputs": [],
   "source": []
  },
  {
   "cell_type": "code",
   "execution_count": 6,
   "metadata": {},
   "outputs": [],
   "source": [
    "# Define checkpoint paths and frequency\n",
    "checkpoint_dir = \"checkpoints\"\n",
    "checkpoint_frequency = 80000000\n",
    "os.makedirs(checkpoint_dir, exist_ok=True)\n",
    "\n",
    "# Try to load the latest checkpoint if exists\n",
    "latest_checkpoint = os.path.join(checkpoint_dir, \"latest_checkpoint.pt\")\n",
    "\n",
    "start_iter = 0\n",
    "if os.path.exists(latest_checkpoint):\n",
    "    try:\n",
    "        start_iter = load_checkpoint(latest_checkpoint, decoder_model, optimizer)\n",
    "        # Reset scheduler to the right step\n",
    "        for _ in range(start_iter):\n",
    "            optimizer.step()\n",
    "            scheduler.step()\n",
    "        print(f\"Resuming training from iteration {start_iter}\")\n",
    "    except Exception as e:\n",
    "        print(f\"Failed to load checkpoint: {e}\")\n"
   ]
  },
  {
   "cell_type": "code",
   "execution_count": 7,
   "metadata": {},
   "outputs": [],
   "source": [
    "def get_batch(split, batch_size, seq_len, batch_idx=None):\n",
    "    if split == 'train':\n",
    "        data = np.memmap(os.path.join(data_dir, 'train.bin'), dtype=np.uint16, mode='r')\n",
    "    else:\n",
    "        data = np.memmap(os.path.join(data_dir, 'val.bin'), dtype=np.uint16, mode='r')\n",
    "    total_positions = len(data) - seq_len\n",
    "    if batch_idx is None:\n",
    "        ix = torch.randint(total_positions, (batch_size,))\n",
    "    else:\n",
    "        start_idx = batch_idx * batch_size\n",
    "        end_idx = min(start_idx + batch_size, total_positions)\n",
    "        ix = torch.arange(start_idx, end_idx)\n",
    "        if len(ix) < batch_size:\n",
    "            padding = torch.zeros(batch_size - len(ix), dtype=torch.long)\n",
    "            ix = torch.cat([ix, padding])\n",
    "    x = torch.stack([torch.from_numpy((data[i:i+seq_len]).astype(np.int64)) for i in ix])\n",
    "    y = torch.stack([torch.from_numpy((data[i+1:i+1+seq_len]).astype(np.int64)) for i in ix])  \n",
    "    if device_type == 'cuda':\n",
    "        x, y = x.pin_memory().to(device, non_blocking=True), y.pin_memory().to(device, non_blocking=True)\n",
    "    else:\n",
    "        x, y = x.to(device), y.to(device)\n",
    "    return x, y"
   ]
  },
  {
   "cell_type": "code",
   "execution_count": 8,
   "metadata": {},
   "outputs": [],
   "source": [
    "# total_iter = 0\n",
    "# for batch_idx in range(total_batches):\n",
    "#     total_iter += 1\n",
    "#     # Get sequential batch\n",
    "#     xb, yb = get_batch('train', batch_size, config.seq_len, batch_idx)\n",
    "    \n",
    "#     # evaluate the loss\n",
    "#     logits, loss = decoder_model(xb, yb)\n",
    "#     optimizer.zero_grad(set_to_none=True)\n",
    "#     loss.backward()\n",
    "#     norm = torch.nn.utils.clip_grad_norm_(decoder_model.parameters(), 1.0)\n",
    "#     optimizer.step()\n",
    "#     scheduler.step()\n",
    "#     # Print loss after every step\n",
    "#     print(f\"batch {batch_idx}/{total_batches}: loss {loss.item():.4f}\")\n",
    "#     break"
   ]
  },
  {
   "cell_type": "code",
   "execution_count": 9,
   "metadata": {},
   "outputs": [
    {
     "name": "stdout",
     "output_type": "stream",
     "text": [
      "torch.Size([2, 256, 512])\n",
      "torch.Size([2, 256, 512])\n",
      "torch.Size([2, 256, 512])\n",
      "torch.Size([2, 256, 512])\n",
      "batch 0/236232576: loss 78.6195, lr: 0.000600\n",
      "Saved checkpoint at iteration 1\n"
     ]
    }
   ],
   "source": [
    "total_iter = start_iter\n",
    "for batch_idx in range(start_iter, total_batches):\n",
    "    total_iter += 1\n",
    "    # Get sequential batch\n",
    "    xb, yb = get_batch('train', batch_size, config.seq_len, batch_idx)\n",
    "    # evaluate the loss\n",
    "    logits, loss = decoder_model(xb, yb)\n",
    "    optimizer.zero_grad(set_to_none=True)\n",
    "    loss.backward()\n",
    "    norm = torch.nn.utils.clip_grad_norm_(decoder_model.parameters(), 1.0)\n",
    "    optimizer.step()\n",
    "    scheduler.step()\n",
    "    \n",
    "    # Print loss after every step\n",
    "    print(f\"batch {batch_idx}/{total_batches}: loss {loss.item():.4f}, lr: {scheduler.get_last_lr()[0]:.6f}\")\n",
    "    \n",
    "    # Save checkpoint at regular intervals\n",
    "    if batch_idx % checkpoint_frequency == 0 or batch_idx == total_batches - 1:\n",
    "        checkpoint_path = os.path.join(checkpoint_dir, f\"checkpoint_{batch_idx}.pt\")\n",
    "        save_checkpoint(decoder_model, optimizer, total_iter, checkpoint_path)\n",
    "        # Also save as latest checkpoint\n",
    "        save_checkpoint(decoder_model, optimizer, total_iter, latest_checkpoint)\n",
    "        print(f\"Saved checkpoint at iteration {total_iter}\")\n",
    "    break"
   ]
  },
  {
   "cell_type": "code",
   "execution_count": 10,
   "metadata": {},
   "outputs": [
    {
     "data": {
      "text/plain": [
       "22694400"
      ]
     },
     "execution_count": 10,
     "metadata": {},
     "output_type": "execute_result"
    }
   ],
   "source": [
    "sum(p.numel() for p in decoder_model.parameters() if p.requires_grad)"
   ]
  },
  {
   "cell_type": "code",
   "execution_count": 12,
   "metadata": {},
   "outputs": [],
   "source": [
    "def count_parameters(model, skip_embedding=True):\n",
    "    \"\"\"\n",
    "    Count the total number of trainable parameters in a PyTorch model,\n",
    "    excluding custom Embedding layers.\n",
    "    \n",
    "    Args:\n",
    "        model: torch.nn.Module - The model to analyze\n",
    "        skip_embedding: bool - Whether to exclude custom Embedding layers\n",
    "        \n",
    "    Returns:\n",
    "        int: Total number of trainable parameters\n",
    "        \n",
    "    Example:\n",
    "        model = Transformer(config)\n",
    "        print(f\"Non-embedding parameters: {count_parameters(model):,}\")\n",
    "        print(f\"All parameters: {count_parameters(model, skip_embedding=False):,}\")\n",
    "    \"\"\"\n",
    "    if skip_embedding:\n",
    "        return sum(p.numel() for name, p in model.named_parameters() \n",
    "                  if p.requires_grad and not any(isinstance(module, Embedding) \n",
    "                                              for name_prefix, module in model.named_modules() \n",
    "                                              if name.startswith(name_prefix)))\n",
    "    else:\n",
    "        return sum(p.numel() for p in model.parameters() if p.requires_grad)"
   ]
  },
  {
   "cell_type": "code",
   "execution_count": 14,
   "metadata": {},
   "outputs": [
    {
     "data": {
      "text/plain": [
       "22694400"
      ]
     },
     "execution_count": 14,
     "metadata": {},
     "output_type": "execute_result"
    }
   ],
   "source": [
    "count_parameters(decoder_model,skip_embedding=False)"
   ]
  },
  {
   "cell_type": "code",
   "execution_count": null,
   "metadata": {},
   "outputs": [],
   "source": []
  }
 ],
 "metadata": {
  "kernelspec": {
   "display_name": "Python 3",
   "language": "python",
   "name": "python3"
  },
  "language_info": {
   "codemirror_mode": {
    "name": "ipython",
    "version": 3
   },
   "file_extension": ".py",
   "mimetype": "text/x-python",
   "name": "python",
   "nbconvert_exporter": "python",
   "pygments_lexer": "ipython3",
   "version": "3.12.4"
  }
 },
 "nbformat": 4,
 "nbformat_minor": 2
}
