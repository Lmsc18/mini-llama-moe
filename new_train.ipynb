{
 "cells": [
  {
   "cell_type": "code",
   "execution_count": 1,
   "metadata": {},
   "outputs": [],
   "source": [
    "import torch\n",
    "from model.config import TSConfig\n",
    "from model.modules.transformer import Transformer\n",
    "import numpy as np\n",
    "from utils import *\n",
    "data_dir='data'\n",
    "device='mps'\n",
    "device_type='mps'"
   ]
  },
  {
   "cell_type": "code",
   "execution_count": 2,
   "metadata": {},
   "outputs": [],
   "source": [
    "batch_size=4\n",
    "config=TSConfig()\n",
    "learning_rate = 1e-2\n",
    "train_data = np.memmap(os.path.join(data_dir, 'train.bin'), dtype=np.uint16, mode='r')\n",
    "total_positions = len(train_data) - config.seq_len\n",
    "total_batches = total_positions // batch_size"
   ]
  },
  {
   "cell_type": "code",
   "execution_count": 3,
   "metadata": {},
   "outputs": [],
   "source": [
    "decoder_model=Transformer(config)\n",
    "dm=decoder_model.to(device)\n",
    "\n",
    "optimizer = torch.optim.AdamW(decoder_model.parameters(), lr=learning_rate)\n",
    "scheduler = torch.optim.lr_scheduler.CosineAnnealingLR(optimizer, T_max=total_batches, eta_min=1e-7)"
   ]
  },
  {
   "cell_type": "code",
   "execution_count": 4,
   "metadata": {},
   "outputs": [],
   "source": [
    "# Define checkpoint paths and frequency\n",
    "checkpoint_dir = \"checkpoints\"\n",
    "checkpoint_frequency = 80000000\n",
    "os.makedirs(checkpoint_dir, exist_ok=True)\n",
    "\n",
    "# Try to load the latest checkpoint if exists\n",
    "latest_checkpoint = os.path.join(checkpoint_dir, \"latest_checkpoint.pt\")\n",
    "\n",
    "start_iter = 0\n",
    "if os.path.exists(latest_checkpoint):\n",
    "    try:\n",
    "        start_iter = load_checkpoint(latest_checkpoint, decoder_model, optimizer)\n",
    "        # Reset scheduler to the right step\n",
    "        for _ in range(start_iter):\n",
    "            optimizer.step()\n",
    "            scheduler.step()\n",
    "        print(f\"Resuming training from iteration {start_iter}\")\n",
    "    except Exception as e:\n",
    "        print(f\"Failed to load checkpoint: {e}\")"
   ]
  },
  {
   "cell_type": "code",
   "execution_count": 5,
   "metadata": {},
   "outputs": [
    {
     "name": "stdout",
     "output_type": "stream",
     "text": [
      "batch 0/118116288: loss 75.0121, lr: 0.010000\n",
      "batch 1/118116288: loss 72.6732, lr: 0.010000\n",
      "batch 2/118116288: loss 69.8239, lr: 0.010000\n",
      "batch 3/118116288: loss 65.9889, lr: 0.010000\n",
      "batch 4/118116288: loss 61.7409, lr: 0.010000\n",
      "batch 5/118116288: loss 58.7134, lr: 0.010000\n",
      "batch 6/118116288: loss 56.6483, lr: 0.010000\n",
      "batch 7/118116288: loss 56.2203, lr: 0.010000\n",
      "batch 8/118116288: loss 54.1409, lr: 0.010000\n",
      "batch 9/118116288: loss 53.2509, lr: 0.010000\n",
      "batch 10/118116288: loss 49.7287, lr: 0.010000\n",
      "batch 11/118116288: loss 47.4428, lr: 0.010000\n",
      "batch 12/118116288: loss 46.3546, lr: 0.010000\n",
      "batch 13/118116288: loss 44.1453, lr: 0.010000\n",
      "batch 14/118116288: loss 41.9372, lr: 0.010000\n",
      "batch 15/118116288: loss 40.1291, lr: 0.010000\n",
      "batch 16/118116288: loss 37.4861, lr: 0.010000\n",
      "batch 17/118116288: loss 36.1667, lr: 0.010000\n",
      "batch 18/118116288: loss 35.6244, lr: 0.010000\n",
      "batch 19/118116288: loss 33.8245, lr: 0.010000\n",
      "batch 20/118116288: loss 32.8869, lr: 0.010000\n",
      "batch 21/118116288: loss 31.5028, lr: 0.010000\n",
      "batch 22/118116288: loss 29.1574, lr: 0.010000\n",
      "batch 23/118116288: loss 27.6852, lr: 0.010000\n",
      "batch 24/118116288: loss 26.7485, lr: 0.010000\n",
      "batch 25/118116288: loss 27.0634, lr: 0.010000\n",
      "batch 26/118116288: loss 25.7708, lr: 0.010000\n",
      "batch 27/118116288: loss 26.1018, lr: 0.010000\n",
      "batch 28/118116288: loss 26.1499, lr: 0.010000\n",
      "batch 29/118116288: loss 25.5159, lr: 0.010000\n",
      "batch 30/118116288: loss 27.1459, lr: 0.010000\n",
      "batch 31/118116288: loss 26.7418, lr: 0.010000\n",
      "batch 32/118116288: loss 23.4829, lr: 0.010000\n",
      "batch 33/118116288: loss 22.5063, lr: 0.010000\n",
      "batch 34/118116288: loss 22.3776, lr: 0.010000\n",
      "batch 35/118116288: loss 21.3596, lr: 0.010000\n",
      "batch 36/118116288: loss 22.2250, lr: 0.010000\n",
      "batch 37/118116288: loss 22.3307, lr: 0.010000\n",
      "batch 38/118116288: loss 23.2649, lr: 0.010000\n",
      "batch 39/118116288: loss 20.2308, lr: 0.010000\n",
      "batch 40/118116288: loss 21.0535, lr: 0.010000\n",
      "batch 41/118116288: loss 23.0876, lr: 0.010000\n",
      "batch 42/118116288: loss 18.2608, lr: 0.010000\n",
      "batch 43/118116288: loss 18.5254, lr: 0.010000\n",
      "batch 44/118116288: loss 17.8436, lr: 0.010000\n",
      "batch 45/118116288: loss 17.9521, lr: 0.010000\n",
      "batch 46/118116288: loss 16.5270, lr: 0.010000\n",
      "batch 47/118116288: loss 14.3029, lr: 0.010000\n",
      "batch 48/118116288: loss 16.3915, lr: 0.010000\n",
      "batch 49/118116288: loss 15.7244, lr: 0.010000\n",
      "batch 50/118116288: loss 13.4033, lr: 0.010000\n"
     ]
    }
   ],
   "source": [
    "total_iter = start_iter\n",
    "for batch_idx in range(start_iter, total_batches):\n",
    "    total_iter += 1\n",
    "    # Get sequential batch\n",
    "    xb, yb = get_batch('train', batch_size, config.seq_len,device, batch_idx)\n",
    "    # evaluate the loss\n",
    "    logits, loss = decoder_model(xb, yb)\n",
    "    optimizer.zero_grad(set_to_none=True)\n",
    "    loss.backward()\n",
    "    norm = torch.nn.utils.clip_grad_norm_(decoder_model.parameters(), 1.0)\n",
    "    optimizer.step()\n",
    "    scheduler.step()\n",
    "    \n",
    "    # Print loss after every step\n",
    "    print(f\"batch {batch_idx}/{total_batches}: loss {loss.item():.4f}, lr: {scheduler.get_last_lr()[0]:.6f}\")\n",
    "    \n",
    "    # Save checkpoint at regular intervals\n",
    "    # if batch_idx % checkpoint_frequency == 0 or batch_idx == total_batches - 1:\n",
    "    #     checkpoint_path = os.path.join(checkpoint_dir, f\"checkpoint_{batch_idx}.pt\")\n",
    "    #     save_checkpoint(decoder_model, optimizer, total_iter, checkpoint_path)\n",
    "    #     # Also save as latest checkpoint\n",
    "    #     save_checkpoint(decoder_model, optimizer, total_iter, latest_checkpoint)\n",
    "    #     print(f\"Saved checkpoint at iteration {total_iter}\")\n",
    "    if batch_idx ==50:\n",
    "        break"
   ]
  },
  {
   "cell_type": "code",
   "execution_count": null,
   "metadata": {},
   "outputs": [],
   "source": []
  },
  {
   "cell_type": "code",
   "execution_count": null,
   "metadata": {},
   "outputs": [],
   "source": []
  },
  {
   "cell_type": "code",
   "execution_count": null,
   "metadata": {},
   "outputs": [],
   "source": []
  }
 ],
 "metadata": {
  "kernelspec": {
   "display_name": "Python 3",
   "language": "python",
   "name": "python3"
  },
  "language_info": {
   "codemirror_mode": {
    "name": "ipython",
    "version": 3
   },
   "file_extension": ".py",
   "mimetype": "text/x-python",
   "name": "python",
   "nbconvert_exporter": "python",
   "pygments_lexer": "ipython3",
   "version": "3.12.4"
  }
 },
 "nbformat": 4,
 "nbformat_minor": 2
}
